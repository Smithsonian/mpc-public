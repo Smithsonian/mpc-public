{
 "cells": [
  {
   "cell_type": "markdown",
   "metadata": {},
   "source": [
    "# Example_parse_mpcorb_json\n",
    "\n",
    "A Jupyter Notebook to illustrate various aspects of the mpc_orb package, primarily focusing on using the MPCORB class to read the contents of \"mpcorb.json\" files\n",
    "\n",
    "MPC: April 2023\n",
    "\n",
    "NB: The original version of this jupyter notebook is expected to live in \n",
    "> https://github.com/Smithsonian/mpc-public/mpc_orb/demos/Example_parse_mpcorb_json.ipynb\n"
   ]
  },
  {
   "cell_type": "markdown",
   "metadata": {},
   "source": [
    "## Notebook Contents \n",
    " - [(0) Installation](#install)\n",
    " - [(1) Basics of mpc_orb](#basics)\n",
    " - [(2) MPCORB Variables](#variables)\n",
    " - [(3) The *Describe* Function](#describe)"
   ]
  },
  {
   "cell_type": "markdown",
   "metadata": {},
   "source": [
    "<a id='install'></a>\n",
    "## <ins> (0) Installation </ins> ..."
   ]
  },
  {
   "cell_type": "markdown",
   "metadata": {},
   "source": [
    "The ability to execute the code in this notebook requires that the user have installed the mpc_orb packege ono their system via some command like \n",
    " > \"pip install mpc_orb\""
   ]
  },
  {
   "cell_type": "markdown",
   "metadata": {},
   "source": [
    "<a id='basics'></a>\n",
    "## <ins> (1) Basics of mpc_orb </ins> ..."
   ]
  },
  {
   "cell_type": "markdown",
   "metadata": {},
   "source": [
    "### Import modules from the mpc_orb package ...\n",
    " - The \"MPCORB\" class provides functionality for parsing mpc_orb.json files\n",
    " - The \"filepaths\" module defines some convenient directories & files "
   ]
  },
  {
   "cell_type": "code",
   "execution_count": 1,
   "metadata": {},
   "outputs": [],
   "source": [
    "# Import the MPCORB class from the mpc_orb package ...\n",
    "from mpc_orb import MPCORB, filepaths"
   ]
  },
  {
   "cell_type": "markdown",
   "metadata": {},
   "source": [
    "### Define a filepath to an mpc_orb.json file\n",
    "Here we use an example json file (included in the mpc_orb repository) for the object $2012 HN_{13}$ which is an object whose best fit orbit requires Yarkovski non-gravitational components. "
   ]
  },
  {
   "cell_type": "code",
   "execution_count": 2,
   "metadata": {},
   "outputs": [
    {
     "name": "stdout",
     "output_type": "stream",
     "text": [
      "demo_filepath=\n",
      " /Users/matthewjohnpayne/Envs/mpc-public/mpc_orb/mpc_orb/demo_json/2012HN13_mpcorb_yarkovski.json \n",
      "\n"
     ]
    }
   ],
   "source": [
    "# Define a filepath to an example json file provided in the package\n",
    "demo_filepath = filepaths.demo_2012HN13\n",
    "print(f'demo_filepath=\\n {demo_filepath} \\n')\n"
   ]
  },
  {
   "cell_type": "markdown",
   "metadata": {},
   "source": [
    "### Instantiate an MPCORB object & use it to parse the above json file\n",
    "  - NB The parsing is done by default \"behind-the-scenes\" upon instantiation\n",
    "  - When we print out the *variables* available within the MPCORB object, we see that there are many *dictionaries*, plus some \"COM\" and \"CAR\" objects that we will discuss in more detail below.\n"
   ]
  },
  {
   "cell_type": "code",
   "execution_count": 4,
   "metadata": {},
   "outputs": [
    {
     "name": "stdout",
     "output_type": "stream",
     "text": [
      "\n",
      " Here we print-out the instance variables for an \"MPCORB\" class object ... \n",
      "\n",
      "\t         schema_json : <class 'NoneType'>\n",
      "\t      categorization : <class 'dict'>\n",
      "\t    designation_data : <class 'dict'>\n",
      "\t          epoch_data : <class 'dict'>\n",
      "\t      magnitude_data : <class 'dict'>\n",
      "\t           moid_data : <class 'dict'>\n",
      "\t   non_grav_booleans : <class 'dict'>\n",
      "\torbit_fit_statistics : <class 'dict'>\n",
      "\t       software_data : <class 'dict'>\n",
      "\t         system_data : <class 'dict'>\n",
      "\t                 COM : <class 'mpc_orb.parse.COORD'>\n",
      "\t                 CAR : <class 'mpc_orb.parse.COORD'>\n",
      "\t                   q : <class 'dict'>\n",
      "\t                   e : <class 'dict'>\n",
      "\t                   i : <class 'dict'>\n",
      "\t                node : <class 'dict'>\n",
      "\t             argperi : <class 'dict'>\n",
      "\t           peri_time : <class 'dict'>\n",
      "\t           yarkovski : <class 'dict'>\n",
      "\t                   x : <class 'dict'>\n",
      "\t                   y : <class 'dict'>\n",
      "\t                   z : <class 'dict'>\n",
      "\t                  vx : <class 'dict'>\n",
      "\t                  vy : <class 'dict'>\n",
      "\t                  vz : <class 'dict'>\n"
     ]
    }
   ],
   "source": [
    "# Instantiate an MPCORB object & use it to parse the above json file\n",
    "M = MPCORB(demo_filepath)\n",
    "\n",
    "# Demonstrate the available variables\n",
    "print('\\n Here we print-out the instance variables for an \"MPCORB\" class object ... \\n')\n",
    "for attribute in vars(M):\n",
    "    print(f'\\t{attribute:>20} : {type(M.__dict__[attribute])}')"
   ]
  },
  {
   "cell_type": "markdown",
   "metadata": {},
   "source": [
    "### Examine one of the best-fit orbital parameters, \"q\" (the pericenter distance)\n",
    "N.B. A more thorough examination of *all* available parameters is provided below in [(2) MPCORB Variables](#variables)"
   ]
  },
  {
   "cell_type": "code",
   "execution_count": null,
   "metadata": {},
   "outputs": [],
   "source": [
    "'''\n",
    "Printing out the variable, \"q\"  (the pericenter distance), \n",
    "we see that it is a dictionary, containing elements for \n",
    " - the best-fit value ('val'), and \n",
    " - the uncertainty on the best-fit value ('unc')\n",
    "'''\n",
    "print(M.q)"
   ]
  },
  {
   "cell_type": "markdown",
   "metadata": {},
   "source": [
    "<a id='variables'></a>\n",
    "## <ins> (2) MPCORB Variables </ins> \n",
    "\n",
    "In this section we examine all of the variables available within the MPCORB object "
   ]
  },
  {
   "cell_type": "markdown",
   "metadata": {},
   "source": [
    "### COM & CAR objects \n",
    "As can be seen above, there are \"COM\" and \"CAR\" contained within the MPCORB Object"
   ]
  },
  {
   "cell_type": "code",
   "execution_count": null,
   "metadata": {},
   "outputs": [],
   "source": [
    "# Demonstrate the attributes available in the \"COM\" coord-object contained \n",
    "print('\\n CAR instance variables ... ')\n",
    "for attribute in vars(M.CAR):\n",
    "    print(f'\\t{attribute:>20} : {type(M.CAR.__dict__[attribute])}')"
   ]
  },
  {
   "cell_type": "markdown",
   "metadata": {},
   "source": [
    "### Access the orbit elements from the MPCORB object in different ways"
   ]
  },
  {
   "cell_type": "code",
   "execution_count": null,
   "metadata": {},
   "outputs": [],
   "source": [
    "# Demonstrate access to Cartesian elements \n",
    "print('\\nformat = CAR = Cartesian ... ')\n",
    "print('\\n\\t coefficient names ... ')\n",
    "print('\\t',M.CAR.coefficient_names )\n",
    "\n",
    "print('\\n\\t coefficient values ... ')\n",
    "print('\\t',M.CAR.coefficient_values )\n",
    "\n",
    "print('\\n\\t coefficient uncertainties ... ')\n",
    "print('\\t',M.CAR.coefficient_uncertainties )\n",
    "\n",
    "print('\\n\\t element dictionary with combined values & uncertainties ... ')\n",
    "print('\\t',M.CAR.element_dict )\n",
    "\n",
    "print('\\n\\t individual element access (x)... ')\n",
    "print('\\t',M.CAR.x )\n",
    "\n",
    "print('\\n\\t covariance array ... ')\n",
    "print('\\t',M.CAR.covariance_array )\n",
    "\n",
    "\n",
    "# Demonstrate access to Cartesian elements \n",
    "print('-'*33)\n",
    "print('\\nformat = COM = Cometary ... ')\n",
    "print('\\n\\t coefficient names ... ')\n",
    "print('\\t',M.COM.coefficient_names )\n",
    "\n",
    "print('\\n\\t coefficient values ... ')\n",
    "print('\\t',M.COM.coefficient_values )\n",
    "\n",
    "print('\\n\\t coefficient uncertainties ... ')\n",
    "print('\\t',M.COM.coefficient_uncertainties )\n",
    "\n",
    "print('\\n\\t element dictionary with combined values & uncertainties ... ')\n",
    "print('\\t',M.COM.element_dict )\n",
    "\n",
    "print('\\n\\t individual element access (e)... ')\n",
    "print('\\t',M.COM.e )\n",
    "\n",
    "print('\\n\\t covariance array ... ')\n",
    "print('\\t',M.COM.covariance_array )\n",
    "\n",
    "\n",
    "# Demonstrate that access to individual elements (Cartesian & Cometary) is also possible from the MPCORB object\n",
    "print('-'*33)\n",
    "print('\\nMPCORB also has individual-element attributes ... ')\n",
    "\n",
    "print('\\n\\t individual element access (x)... ')\n",
    "print('\\t',M.x )\n",
    "\n",
    "print('\\n\\t individual element access (e)... ')\n",
    "print('\\t',M.e )\n"
   ]
  },
  {
   "cell_type": "markdown",
   "metadata": {},
   "source": [
    "<a id='describe'></a>\n",
    "### The *describe* function \n",
    "The *describe* function can be used to access information / definitions for each and every attribute within an MPCORB instance.\n"
   ]
  },
  {
   "cell_type": "code",
   "execution_count": null,
   "metadata": {},
   "outputs": [],
   "source": [
    "# Demonstrate the available variables\n",
    "print('\\n MPCORB description ... ')\n",
    "for attribute in vars(M):\n",
    "    print(f'\\n{M.describe(attribute)}')"
   ]
  },
  {
   "cell_type": "code",
   "execution_count": null,
   "metadata": {},
   "outputs": [],
   "source": []
  }
 ],
 "metadata": {
  "kernelspec": {
   "display_name": "Python 3",
   "language": "python",
   "name": "python3"
  },
  "language_info": {
   "codemirror_mode": {
    "name": "ipython",
    "version": 3
   },
   "file_extension": ".py",
   "mimetype": "text/x-python",
   "name": "python",
   "nbconvert_exporter": "python",
   "pygments_lexer": "ipython3",
   "version": "3.8.3"
  }
 },
 "nbformat": 4,
 "nbformat_minor": 4
}
