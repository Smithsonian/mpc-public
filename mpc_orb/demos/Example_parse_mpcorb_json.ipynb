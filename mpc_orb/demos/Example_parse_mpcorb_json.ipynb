{
 "cells": [
  {
   "cell_type": "markdown",
   "metadata": {},
   "source": [
    "# Notebook to illustrate the usage of the parse.MPCORB class to read the contents of \"mpcorb.json\" files\n",
    "\n",
    "MPC: April 2023\n"
   ]
  },
  {
   "cell_type": "markdown",
   "metadata": {},
   "source": [
    "### Import the MPCORB class from the parse module in the mpc_orb directory ...\n",
    " - Assumes that mpc_orb has been installed via some command like \"pip install mpc_orb\""
   ]
  },
  {
   "cell_type": "code",
   "execution_count": 3,
   "metadata": {},
   "outputs": [],
   "source": [
    "# Import the MPCORB class from the mpc_orb package ...\n",
    "from mpc_orb import MPCORB"
   ]
  },
  {
   "cell_type": "markdown",
   "metadata": {},
   "source": [
    "### Define a filepath to an example json file in the mpcorb format "
   ]
  },
  {
   "cell_type": "code",
   "execution_count": 2,
   "metadata": {},
   "outputs": [
    {
     "ename": "ImportError",
     "evalue": "cannot import name 'test_pass_mpcorb' from 'mpc_orb.filepaths' (/Users/matthewjohnpayne/Envs/mpc-public/mpc_orb/mpc_orb/filepaths.py)",
     "output_type": "error",
     "traceback": [
      "\u001b[0;31m---------------------------------------------------------------------------\u001b[0m",
      "\u001b[0;31mImportError\u001b[0m                               Traceback (most recent call last)",
      "\u001b[0;32m<ipython-input-2-d51a0f485ef0>\u001b[0m in \u001b[0;36m<module>\u001b[0;34m\u001b[0m\n\u001b[1;32m      1\u001b[0m \u001b[0;31m# Import the convenience filepath-defn dictionary\u001b[0m\u001b[0;34m\u001b[0m\u001b[0;34m\u001b[0m\u001b[0;34m\u001b[0m\u001b[0m\n\u001b[0;32m----> 2\u001b[0;31m \u001b[0;32mfrom\u001b[0m \u001b[0mmpc_orb\u001b[0m\u001b[0;34m.\u001b[0m\u001b[0mfilepaths\u001b[0m \u001b[0;32mimport\u001b[0m \u001b[0mtest_pass_mpcorb\u001b[0m\u001b[0;34m\u001b[0m\u001b[0;34m\u001b[0m\u001b[0m\n\u001b[0m\u001b[1;32m      3\u001b[0m \u001b[0;34m\u001b[0m\u001b[0m\n\u001b[1;32m      4\u001b[0m \u001b[0;31m# Define a filepath to an example json file provided in the package\u001b[0m\u001b[0;34m\u001b[0m\u001b[0;34m\u001b[0m\u001b[0;34m\u001b[0m\u001b[0m\n\u001b[1;32m      5\u001b[0m \u001b[0mfilepath\u001b[0m \u001b[0;34m=\u001b[0m \u001b[0mtest_pass_mpcorb\u001b[0m\u001b[0;34m[\u001b[0m\u001b[0;36m0\u001b[0m\u001b[0;34m]\u001b[0m\u001b[0;34m\u001b[0m\u001b[0;34m\u001b[0m\u001b[0m\n",
      "\u001b[0;31mImportError\u001b[0m: cannot import name 'test_pass_mpcorb' from 'mpc_orb.filepaths' (/Users/matthewjohnpayne/Envs/mpc-public/mpc_orb/mpc_orb/filepaths.py)"
     ]
    }
   ],
   "source": [
    "# Import the convenience filepath-defn dictionary\n",
    "from mpc_orb.filepaths import test_pass_mpcorb\n",
    "\n",
    "# Define a filepath to an example json file provided in the package\n",
    "filepath = test_pass_mpcorb[0]\n",
    "print(f'filepath=\\n {filepath} \\n')\n"
   ]
  },
  {
   "cell_type": "markdown",
   "metadata": {},
   "source": [
    "### Instantiate an MPCORB object & use it to parse the above json file\n",
    "  - NB The parsing is done by default \"behind-the-scenes\" upon instantiation\n"
   ]
  },
  {
   "cell_type": "code",
   "execution_count": 4,
   "metadata": {},
   "outputs": [
    {
     "name": "stdout",
     "output_type": "stream",
     "text": [
      "\n",
      " MPCORB instance variables ... \n",
      "\t         schema_json : <class 'NoneType'>\n",
      "\t      categorization : <class 'dict'>\n",
      "\t    designation_data : <class 'dict'>\n",
      "\t          epoch_data : <class 'dict'>\n",
      "\t      magnitude_data : <class 'dict'>\n",
      "\t           moid_data : <class 'dict'>\n",
      "\t   non_grav_booleans : <class 'dict'>\n",
      "\torbit_fit_statistics : <class 'dict'>\n",
      "\t       software_data : <class 'dict'>\n",
      "\t         system_data : <class 'dict'>\n",
      "\t                 COM : <class 'mpc_orb.parse.COORD'>\n",
      "\t                 CAR : <class 'mpc_orb.parse.COORD'>\n",
      "\t                   q : <class 'dict'>\n",
      "\t                   e : <class 'dict'>\n",
      "\t                   i : <class 'dict'>\n",
      "\t                node : <class 'dict'>\n",
      "\t             argperi : <class 'dict'>\n",
      "\t           peri_time : <class 'dict'>\n",
      "\t           yarkovski : <class 'dict'>\n",
      "\t                   x : <class 'dict'>\n",
      "\t                   y : <class 'dict'>\n",
      "\t                   z : <class 'dict'>\n",
      "\t                  vx : <class 'dict'>\n",
      "\t                  vy : <class 'dict'>\n",
      "\t                  vz : <class 'dict'>\n"
     ]
    }
   ],
   "source": [
    "# Instantiate an MPCORB object & use it to parse the above json file\n",
    "M = MPCORB(filepath)\n",
    "\n",
    "# Demonstrate the available variables\n",
    "print('\\n MPCORB instance variables ... ')\n",
    "for attribute in vars(M):\n",
    "    print(f'\\t{attribute:>20} : {type(M.__dict__[attribute])}')"
   ]
  },
  {
   "cell_type": "markdown",
   "metadata": {},
   "source": [
    "### There are COM & CAR objects contained within the MPCORB Object"
   ]
  },
  {
   "cell_type": "code",
   "execution_count": 5,
   "metadata": {},
   "outputs": [
    {
     "name": "stdout",
     "output_type": "stream",
     "text": [
      "\n",
      " CAR instance variables ... \n",
      "\t   coefficient_names : <class 'list'>\n",
      "\t  coefficient_values : <class 'list'>\n",
      "\tcoefficient_uncertainties : <class 'list'>\n",
      "\t         eigenvalues : <class 'list'>\n",
      "\t          covariance : <class 'dict'>\n",
      "\t    covariance_array : <class 'numpy.ndarray'>\n",
      "\t        element_dict : <class 'dict'>\n",
      "\t                   x : <class 'dict'>\n",
      "\t                   y : <class 'dict'>\n",
      "\t                   z : <class 'dict'>\n",
      "\t                  vx : <class 'dict'>\n",
      "\t                  vy : <class 'dict'>\n",
      "\t                  vz : <class 'dict'>\n",
      "\t           yarkovski : <class 'dict'>\n"
     ]
    }
   ],
   "source": [
    "# Demonstrate the attributes available in the \"COM\" coord-object contained \n",
    "print('\\n CAR instance variables ... ')\n",
    "for attribute in vars(M.CAR):\n",
    "    print(f'\\t{attribute:>20} : {type(M.CAR.__dict__[attribute])}')"
   ]
  },
  {
   "cell_type": "markdown",
   "metadata": {},
   "source": [
    "### Access the orbit elements from the MPCORB object in different ways"
   ]
  },
  {
   "cell_type": "code",
   "execution_count": 6,
   "metadata": {},
   "outputs": [
    {
     "name": "stdout",
     "output_type": "stream",
     "text": [
      "\n",
      "format = CAR = Cartesian ... \n",
      "\n",
      "\t coefficient names ... \n",
      "\t ['x', 'y', 'z', 'vx', 'vy', 'vz', 'yarkovski']\n",
      "\n",
      "\t coefficient values ... \n",
      "\t [0.400637254703697, 1.72530013679644, -0.120928190519571, -0.0102316591071472, 0.00429614246581105, -0.000349929761438383, -0.001185419262123]\n",
      "\n",
      "\t coefficient uncertainties ... \n",
      "\t [1.41332e-07, 2.24426e-08, 5.87873e-08, 3.40373e-10, 4.71794e-10, 3.34717e-10, 1e-07]\n",
      "\n",
      "\t element dictionary with combined values & uncertainties ... \n",
      "\t {'x': {'val': 0.400637254703697, 'unc': 1.41332e-07}, 'y': {'val': 1.72530013679644, 'unc': 2.24426e-08}, 'z': {'val': -0.120928190519571, 'unc': 5.87873e-08}, 'vx': {'val': -0.0102316591071472, 'unc': 3.40373e-10}, 'vy': {'val': 0.00429614246581105, 'unc': 4.71794e-10}, 'vz': {'val': -0.000349929761438383, 'unc': 3.34717e-10}, 'yarkovski': {'val': -0.001185419262123, 'unc': 1e-07}}\n",
      "\n",
      "\t individual element access (x)... \n",
      "\t {'val': 0.400637254703697, 'unc': 1.41332e-07}\n",
      "\n",
      "\t covariance array ... \n",
      "\t [[ 1.99747709e-14 -2.47579831e-15  3.87101874e-15  4.60192564e-17\n",
      "   6.44504078e-17 -1.33310099e-18 -6.43587493e-12]\n",
      " [-2.47579831e-15  5.03668761e-16 -1.56419288e-16 -4.43086368e-18\n",
      "  -8.32243383e-18  1.51538836e-18  1.43727507e-12]\n",
      " [ 3.87101874e-15 -1.56419288e-16  3.45594667e-15  9.88296966e-18\n",
      "   1.32178687e-17  1.42699944e-17 -1.14277528e-13]\n",
      " [ 4.60192564e-17 -4.43086368e-18  9.88296966e-18  1.15853646e-19\n",
      "   1.48882275e-19 -4.99494773e-22 -9.56760386e-15]\n",
      " [ 6.44504078e-17 -8.32243383e-18  1.32178687e-17  1.48882275e-19\n",
      "   2.22589311e-19  3.44719133e-21 -1.06279020e-14]\n",
      " [-1.33310099e-18  1.51538836e-18  1.42699944e-17 -4.99494773e-22\n",
      "   3.44719133e-21  1.12035707e-19  5.67933081e-15]\n",
      " [-6.43587493e-12  1.43727507e-12 -1.14277528e-13 -9.56760386e-15\n",
      "  -1.06279020e-14  5.67933081e-15  2.47188316e-08]]\n",
      "---------------------------------\n",
      "\n",
      "format = COM = Cometary ... \n",
      "\n",
      "\t coefficient names ... \n",
      "\t ['q', 'e', 'i', 'node', 'argperi', 'peri_time', 'yarkovski']\n",
      "\n",
      "\t coefficient values ... \n",
      "\t [0.97469103481812, 0.307980763141286, 4.0744770505194, 183.4982668700383, 97.2208277743442, 59765.3930151203, -0.001185419262123]\n",
      "\n",
      "\t coefficient uncertainties ... \n",
      "\t [1.37975e-08, 1.08365e-08, 2.11995e-06, 1.6376e-05, 2.03201e-05, 1.27375e-05, 1e-07]\n",
      "\n",
      "\t element dictionary with combined values & uncertainties ... \n",
      "\t {'q': {'val': 0.97469103481812, 'unc': 1.37975e-08}, 'e': {'val': 0.307980763141286, 'unc': 1.08365e-08}, 'i': {'val': 4.0744770505194, 'unc': 2.11995e-06}, 'node': {'val': 183.4982668700383, 'unc': 1.6376e-05}, 'argperi': {'val': 97.2208277743442, 'unc': 2.03201e-05}, 'peri_time': {'val': 59765.3930151203, 'unc': 1.27375e-05}, 'yarkovski': {'val': -0.001185419262123, 'unc': 1e-07}}\n",
      "\n",
      "\t individual element access (e)... \n",
      "\t {'val': 0.307980763141286, 'unc': 1.08365e-08}\n",
      "\n",
      "\t covariance array ... \n",
      "\t [[ 1.90372276e-16 -1.47434163e-16 -2.06614671e-15  3.06841464e-14\n",
      "  -9.87183438e-14 -9.86859910e-14 -6.65779067e-13]\n",
      " [-1.47434163e-16  1.17429953e-16  2.14707995e-15 -2.45688328e-14\n",
      "   8.30960806e-14  8.57623116e-14  7.74123590e-13]\n",
      " [-2.06614671e-15  2.14707995e-15  4.49420376e-12  1.83626987e-11\n",
      "  -1.12585073e-11  9.83443194e-12 -7.84563017e-12]\n",
      " [ 3.06841464e-14 -2.45688328e-14  1.83626987e-11  2.68173255e-10\n",
      "  -3.00990352e-10 -4.89642128e-11 -3.46714657e-10]\n",
      " [-9.87183438e-14  8.30960806e-14 -1.12585073e-11 -3.00990352e-10\n",
      "   4.12905974e-10  1.61251212e-10  8.64625977e-10]\n",
      " [-9.86859910e-14  8.57623116e-14  9.83443194e-12 -4.89642128e-11\n",
      "   1.61251212e-10  1.62242759e-10  8.09227561e-10]\n",
      " [-6.65779067e-13  7.74123590e-13 -7.84563017e-12 -3.46714657e-10\n",
      "   8.64625977e-10  8.09227561e-10  2.47188316e-08]]\n",
      "---------------------------------\n",
      "\n",
      "MPCORB also has individual-element attributes ... \n",
      "\n",
      "\t individual element access (x)... \n",
      "\t {'val': 0.400637254703697, 'unc': 1.41332e-07}\n",
      "\n",
      "\t individual element access (e)... \n",
      "\t {'val': 0.307980763141286, 'unc': 1.08365e-08}\n"
     ]
    }
   ],
   "source": [
    "# Demonstrate access to Cartesian elements \n",
    "print('\\nformat = CAR = Cartesian ... ')\n",
    "print('\\n\\t coefficient names ... ')\n",
    "print('\\t',M.CAR.coefficient_names )\n",
    "\n",
    "print('\\n\\t coefficient values ... ')\n",
    "print('\\t',M.CAR.coefficient_values )\n",
    "\n",
    "print('\\n\\t coefficient uncertainties ... ')\n",
    "print('\\t',M.CAR.coefficient_uncertainties )\n",
    "\n",
    "print('\\n\\t element dictionary with combined values & uncertainties ... ')\n",
    "print('\\t',M.CAR.element_dict )\n",
    "\n",
    "print('\\n\\t individual element access (x)... ')\n",
    "print('\\t',M.CAR.x )\n",
    "\n",
    "print('\\n\\t covariance array ... ')\n",
    "print('\\t',M.CAR.covariance_array )\n",
    "\n",
    "\n",
    "# Demonstrate access to Cartesian elements \n",
    "print('-'*33)\n",
    "print('\\nformat = COM = Cometary ... ')\n",
    "print('\\n\\t coefficient names ... ')\n",
    "print('\\t',M.COM.coefficient_names )\n",
    "\n",
    "print('\\n\\t coefficient values ... ')\n",
    "print('\\t',M.COM.coefficient_values )\n",
    "\n",
    "print('\\n\\t coefficient uncertainties ... ')\n",
    "print('\\t',M.COM.coefficient_uncertainties )\n",
    "\n",
    "print('\\n\\t element dictionary with combined values & uncertainties ... ')\n",
    "print('\\t',M.COM.element_dict )\n",
    "\n",
    "print('\\n\\t individual element access (e)... ')\n",
    "print('\\t',M.COM.e )\n",
    "\n",
    "print('\\n\\t covariance array ... ')\n",
    "print('\\t',M.COM.covariance_array )\n",
    "\n",
    "\n",
    "# Demonstrate that access to individual elements (Cartesian & Cometary) is also possible from the MPCORB object\n",
    "print('-'*33)\n",
    "print('\\nMPCORB also has individual-element attributes ... ')\n",
    "\n",
    "print('\\n\\t individual element access (x)... ')\n",
    "print('\\t',M.x )\n",
    "\n",
    "print('\\n\\t individual element access (e)... ')\n",
    "print('\\t',M.e )\n"
   ]
  },
  {
   "cell_type": "markdown",
   "metadata": {},
   "source": [
    "### Use the *describe* function to access information / definitions for each attribute"
   ]
  },
  {
   "cell_type": "code",
   "execution_count": 10,
   "metadata": {},
   "outputs": [
    {
     "name": "stdout",
     "output_type": "stream",
     "text": [
      "\n",
      " MPCORB description ... \n",
      "\n",
      "{'schema_json': {'filepath': '/Users/matthewjohnpayne/Envs/mpc-public/mpc_orb/mpc_orb/json_files/schema_json/mpcorb_schema.json'}}\n",
      "\n",
      "{'categorization': {'description': 'Various different ways to categorize / sub-set orbit / object types'}}\n",
      "\n",
      "{'designation_data': {'description': 'The designations, numbers and names that may be associated with the object'}}\n",
      "\n",
      "{'epoch_data': {'description': 'Data concerning the orbit epoch: I.e. The date at which the best-fit orbital coordinates are correct [double-check: Does TT ++ TDT???]'}}\n",
      "\n",
      "{'magnitude_data': {'description': 'The absolute magnitude, H, and slope parameter, G, information derived from the fitted orbit in combination with the observed apparent magnitudes. '}}\n",
      "\n",
      "{'moid_data': {'description': 'Calculated MOIDs (Minimum Orbital Interception Distances) at Epoch'}}\n",
      "\n",
      "{'non_grav_booleans': {'description': 'Booleans to indicate whether any non-gravitational parameters are used in the orbit-fit. The actual fitted values and their covariance properties are reported within the CAR and COT parameter sections.'}}\n",
      "\n",
      "{'orbit_fit_statistics': {'description': 'Summary fit statistics associated with the best-fit orbit, the observations used, etc'}}\n",
      "\n",
      "{'software_data': {'description': 'Details of the software used to perform orbital fit and to create mpcorb output file'}}\n",
      "\n",
      "{'system_data': {'description': 'Ephemeris model assumed when integrating the motion of the object, and the frame of reference used to specify the best-fit orbital elements. '}}\n",
      "\n",
      "{'COM': {'description': 'Description of the best-fit orbit using cometary coordinates (plus any non-gravs) in heliocentric coordinates. Contains the best-fit orbit and covariance matrix.'}}\n",
      "\n",
      "{'CAR': {'description': 'Cartesian Element Specification: Description of the best-fit orbit based on a cartesian coordinate system (plus any non-gravs). Contains the best-fit orbit and covariance matrix. Heliocentric coordinates.'}}\n",
      "\n",
      "{'q': {'description': 'Cometary Pericenter Distance', 'properties': {'unit': {'description': 'Physical Units associated with Cometary Pericenter Distance', 'enum': ['au']}}}}\n",
      "\n",
      "{'e': {'description': 'Cometary Eccentricity', 'properties': {'unit': {'description': 'Physical Units associated with Cometary Eccentricity', 'enum': ['null']}}}}\n",
      "\n",
      "{'i': {'description': 'Cometary Inclination', 'properties': {'unit': {'description': 'Physical Units associated with Cometary Inclination', 'enum': ['degrees']}}}}\n",
      "\n",
      "{'node': {'description': 'Cometary Longitude of Ascending Node', 'properties': {'unit': {'description': 'Physical Units associated with Cometary Longitude of Ascending Node', 'enum': ['degrees']}}}}\n",
      "\n",
      "{'argperi': {'description': 'Cometary Argument of Pericenter', 'properties': {'unit': {'description': 'Physical Units associated with Cometary Argument of Pericenter', 'enum': ['degrees']}}}}\n",
      "\n",
      "{'peri_time': {'description': 'Cometary Time from Pericenter Passage', 'properties': {'unit': {'description': 'Physical Units associated with Cometary Time from Pericenter Passage', 'enum': ['days']}}}}\n",
      "\n",
      "{'yarkovski': {'description': 'Yarkovski Component', 'properties': {'unit': {'description': 'Physical Units associated with Yarkovski non-grav component', 'enum': ['10^(-10)*au/day^2']}}}}\n",
      "\n",
      "{'x': {'description': 'Cartesian Position Component', 'properties': {'unit': {'description': 'Physical Units associated with Cartesian Position Component', 'enum': ['au']}}}}\n",
      "\n",
      "{'y': {'description': 'Cartesian Position Component', 'properties': {'unit': {'description': 'Physical Units associated with Cartesian Position Component', 'enum': ['au']}}}}\n",
      "\n",
      "{'z': {'description': 'Cartesian Position Component', 'properties': {'unit': {'description': 'Physical Units associated with Cartesian Position Component', 'enum': ['au']}}}}\n",
      "\n",
      "{'vx': {'description': 'Cartesian Velocity Component', 'properties': {'unit': {'description': 'Physical Units associated with Cartesian Velocity Component', 'enum': ['au/day']}}}}\n",
      "\n",
      "{'vy': {'description': 'Cartesian Velocity Component', 'properties': {'unit': {'description': 'Physical Units associated with Cartesian Velocity Component', 'enum': ['au/day']}}}}\n",
      "\n",
      "{'vz': {'description': 'Cartesian Velocity Component', 'properties': {'unit': {'description': 'Physical Units associated with Cartesian Velocity Component', 'enum': ['au/day']}}}}\n"
     ]
    }
   ],
   "source": [
    "# Demonstrate the available variables\n",
    "print('\\n MPCORB description ... ')\n",
    "for attribute in vars(M):\n",
    "    print(f'\\n{M.describe(attribute)}')"
   ]
  },
  {
   "cell_type": "code",
   "execution_count": null,
   "metadata": {},
   "outputs": [],
   "source": []
  }
 ],
 "metadata": {
  "kernelspec": {
   "display_name": "Python 3",
   "language": "python",
   "name": "python3"
  },
  "language_info": {
   "codemirror_mode": {
    "name": "ipython",
    "version": 3
   },
   "file_extension": ".py",
   "mimetype": "text/x-python",
   "name": "python",
   "nbconvert_exporter": "python",
   "pygments_lexer": "ipython3",
   "version": "3.8.3"
  }
 },
 "nbformat": 4,
 "nbformat_minor": 4
}
