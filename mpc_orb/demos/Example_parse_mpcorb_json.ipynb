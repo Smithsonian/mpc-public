{
 "cells": [
  {
   "cell_type": "markdown",
   "metadata": {},
   "source": [
    "# Notebook to illustrate the usage of the parse.MPCORB class to read the contents of \"mpcorb.json\" files\n",
    "\n",
    "MJP: 2021-02-04\n"
   ]
  },
  {
   "cell_type": "markdown",
   "metadata": {},
   "source": [
    "### Import the MPCORB class from the parse module in the mpc_orb directory ..."
   ]
  },
  {
   "cell_type": "code",
   "execution_count": 1,
   "metadata": {},
   "outputs": [],
   "source": [
    "\n",
    "# Ensure the code-directory is in the path\n",
    "from os.path import join, dirname, abspath\n",
    "import sys\n",
    "pack_dir  = dirname(abspath('')) # Package directory\n",
    "code_dir  = join(pack_dir, 'mpc_orb')\n",
    "sys.path.append(code_dir)\n",
    "\n",
    "# Import the MPCORB class from the parse module in the mpc_orb directory ...\n",
    "from parse import MPCORB\n",
    "\n"
   ]
  },
  {
   "cell_type": "markdown",
   "metadata": {},
   "source": [
    "### Define a filepath to an example json file in the mpcorb format "
   ]
  },
  {
   "cell_type": "code",
   "execution_count": 2,
   "metadata": {},
   "outputs": [
    {
     "name": "stdout",
     "output_type": "stream",
     "text": [
      "filepath=\n",
      " /Users/matthewjohnpayne/Envs/mpc_orb/json_files/test_jsons/pass_mpcorb/10199fel_num.json \n",
      "\n"
     ]
    }
   ],
   "source": [
    "# Import the convenience filepath-defn dictionary\n",
    "from filepaths import filepath_dict\n",
    "\n",
    "### Define a filepath to an example json file in the mpcorb format\n",
    "filepath = filepath_dict['test_pass_mpcorb'][0]\n",
    "print(f'filepath=\\n {filepath} \\n')\n"
   ]
  },
  {
   "cell_type": "markdown",
   "metadata": {},
   "source": [
    "### Instantiate an MPCORB object & use it to parse the above json file"
   ]
  },
  {
   "cell_type": "code",
   "execution_count": 3,
   "metadata": {},
   "outputs": [
    {
     "name": "stdout",
     "output_type": "stream",
     "text": [
      "num_params 6 covariance_array.shape (6, 6)\n",
      "num_params 6 covariance_array.shape (6, 6)\n",
      "----------------------\n",
      "\n",
      " Top level variables in MPCORB dictionary ... \n",
      "\n",
      "CAR :\n",
      "\t{'eigval': [7.13978e-11, 5.36247e-10, 6.2856e-10, 1.05921e-06, 1.23007e-06, 6.65069e-06], 'numparams': 6, 'rms': [2.14836e-06, 6.37147e-06, 1.28672e-06, 6.4206e-10, 2.42473e-09, 7.0741e-10], 'covariance': {'cov00': 4.61543385753847e-12, 'cov01': -1.110303353272956e-11, 'cov02': -1.117058610136056e-12, 'cov03': 8.635073838067637e-16, 'cov04': -4.325464995228913e-15, 'cov05': -6.683859779209557e-16, 'cov11': 4.059563399057473e-11, 'cov12': 4.409868906907151e-12, 'cov13': -2.528967225469305e-15, 'cov14': 1.529056292216793e-14, 'cov15': 2.35745226342258e-15, 'cov22': 1.655640962093195e-12, 'cov23': -2.720533462964197e-16, 'cov24': 1.669290483642606e-15, 'cov25': 4.005838492513006e-16, 'cov33': 4.122404772167541e-19, 'cov34': -1.068491585121945e-18, 'cov35': -2.278319515132981e-19, 'cov44': 5.879307931288711e-18, 'cov45': 7.906818904812777e-19, 'cov55': 5.004291664381621e-19}, 'elements': {'x': 7.96253836772459, 'y': -14.5219791035955, 'z': -0.212003819990827, 'vx': 0.00361247867886134, 'vy': 0.00119230364600962, 'vz': 0.00160534413330859}, 'element_order': ['x', 'y', 'z', 'vx', 'vy', 'vz'], 'covariance_array': array([[ 4.61543386e-12, -1.11030335e-11, -1.11705861e-12,\n",
      "         8.63507384e-16, -4.32546500e-15, -6.68385978e-16],\n",
      "       [-1.11030335e-11,  4.05956340e-11,  4.40986891e-12,\n",
      "        -2.52896723e-15,  1.52905629e-14,  2.35745226e-15],\n",
      "       [-1.11705861e-12,  4.40986891e-12,  1.65564096e-12,\n",
      "        -2.72053346e-16,  1.66929048e-15,  4.00583849e-16],\n",
      "       [ 8.63507384e-16, -2.52896723e-15, -2.72053346e-16,\n",
      "         4.12240477e-19, -1.06849159e-18, -2.27831952e-19],\n",
      "       [-4.32546500e-15,  1.52905629e-14,  1.66929048e-15,\n",
      "        -1.06849159e-18,  5.87930793e-18,  7.90681890e-19],\n",
      "       [-6.68385978e-16,  2.35745226e-15,  4.00583849e-16,\n",
      "        -2.27831952e-19,  7.90681890e-19,  5.00429166e-19]]), 'element_array': array([ 7.96253837e+00, -1.45219791e+01, -2.12003820e-01,  3.61247868e-03,\n",
      "        1.19230365e-03,  1.60534413e-03]), 'uncertainty': array([2.14835608e-06, 6.37147032e-06, 1.28671713e-06, 6.42059559e-10,\n",
      "       2.42472842e-09, 7.07410183e-10])}\n",
      "\n",
      "\n",
      "COM :\n",
      "\t{'eigval': [4.05219e-08, 1.48624e-07, 1.78359e-07, 2.49551e-07, 8.27355e-07, 0.00423213], 'numparams': 6, 'rms': [1.26983e-06, 4.32288e-07, 8.90221e-06, 9.36968e-06, 8.58924e-05, 0.00423213], 'covariance': {'cov00': 1.612469894680934e-12, 'cov01': 1.720671322372789e-13, 'cov02': 2.651888743774002e-13, 'cov03': -2.941788400789614e-13, 'cov04': 8.342750536030273e-11, 'cov05': 4.166481622430971e-09, 'cov11': 1.868730031930547e-13, 'cov12': 1.381960510572463e-14, 'cov13': -4.282454784038906e-14, 'cov14': 2.965481153707152e-11, 'cov15': 1.419291991237661e-09, 'cov22': 7.924931173425798e-11, 'cov23': -1.664783653689653e-11, 'cov24': 2.52079207595827e-11, 'cov25': 4.62575622387322e-10, 'cov33': 8.779096770741941e-11, 'cov34': -9.242877040081382e-11, 'cov35': -5.412037128358808e-10, 'cov44': 7.377510560248127e-09, 'cov45': 3.607637175789006e-07, 'cov55': 1.791091479956181e-05}, 'elements': {'q': 13.1683174569656, 'e': 0.168597932577855, 'i': 23.3498339994083, 'node': 300.4355710579049, 'argperi': 243.2754171935957, 'peri_time': 53032.0744160882}, 'element_order': ['q', 'e', 'i', 'node', 'argperi', 'peri_time'], 'covariance_array': array([[ 1.61246989e-12,  1.72067132e-13,  2.65188874e-13,\n",
      "        -2.94178840e-13,  8.34275054e-11,  4.16648162e-09],\n",
      "       [ 1.72067132e-13,  1.86873003e-13,  1.38196051e-14,\n",
      "        -4.28245478e-14,  2.96548115e-11,  1.41929199e-09],\n",
      "       [ 2.65188874e-13,  1.38196051e-14,  7.92493117e-11,\n",
      "        -1.66478365e-11,  2.52079208e-11,  4.62575622e-10],\n",
      "       [-2.94178840e-13, -4.28245478e-14, -1.66478365e-11,\n",
      "         8.77909677e-11, -9.24287704e-11, -5.41203713e-10],\n",
      "       [ 8.34275054e-11,  2.96548115e-11,  2.52079208e-11,\n",
      "        -9.24287704e-11,  7.37751056e-09,  3.60763718e-07],\n",
      "       [ 4.16648162e-09,  1.41929199e-09,  4.62575622e-10,\n",
      "        -5.41203713e-10,  3.60763718e-07,  1.79109148e-05]]), 'element_array': array([1.31683175e+01, 1.68597933e-01, 2.33498340e+01, 3.00435571e+02,\n",
      "       2.43275417e+02, 5.30320744e+04]), 'uncertainty': array([1.26983066e-06, 4.32288102e-07, 8.90220825e-06, 9.36968344e-06,\n",
      "       8.58924360e-05, 4.23212887e-03])}\n",
      "\n",
      "\n",
      "COT :\n",
      "\t{'eigval': [2.99862e-08, 1.26371e-07, 1.51377e-07, 2.12637e-07, 7.89499e-07, 2.39754e-06], 'numparams': 6, 'rms': [1.26983e-06, 4.32288e-07, 8.90221e-06, 9.36968e-06, 8.58924e-05, 8.80002e-05], 'covariance': {'cov00': 1.612469894680934e-12, 'cov01': 1.720671322372789e-13, 'cov02': 2.651888743774002e-13, 'cov03': -2.941788400789614e-13, 'cov04': 8.342750536030273e-11, 'cov05': -8.391426518707961e-11, 'cov11': 1.868730031930547e-13, 'cov12': 1.381960510572463e-14, 'cov13': -4.282454784038906e-14, 'cov14': 2.965481153707152e-11, 'cov15': -3.172773640098537e-11, 'cov22': 7.924931173425798e-11, 'cov23': -1.664783653689653e-11, 'cov24': 2.52079207595827e-11, 'cov25': -9.886302369797643e-12, 'cov33': 8.779096770741941e-11, 'cov34': -9.242877040081382e-11, 'cov35': 1.283689803974124e-11, 'cov44': 7.377510560248127e-09, 'cov45': -7.500779169481364e-09, 'cov55': 7.74403362005622e-09}, 'elements': {'q': 13.1683174569656, 'e': 0.168597932577855, 'i': 23.3498339994083, 'node': 300.4355710579049, 'argperi': 243.2754171935957, 'true_anomaly': 114.8739133298088}, 'element_order': ['q', 'e', 'i', 'node', 'argperi', 'true_anomaly']}\n",
      "\n",
      "\n",
      "EQU :\n",
      "\t{'eigval': [2.92219e-08, 3.37324e-08, 4.33746e-08, 8.13564e-08, 1.8048e-07, 8.91346e-06], 'numparams': 6, 'rms': [8.83397e-06, 2.73523e-07, 4.18448e-07, 7.51532e-08, 4.53364e-08, 6.26679e-05], 'covariance': {'cov00': 7.80389516238214e-11, 'cov01': -2.193940161988451e-12, 'cov02': -3.632615229965114e-12, 'cov03': -6.70474097315182e-15, 'cov04': -9.532751739247026e-16, 'cov05': -5.4977944318932e-10, 'cov11': 7.481474785423542e-14, 'cov12': 9.440397134751742e-14, 'cov13': 2.341620563275733e-16, 'cov14': -6.901968992808166e-17, 'cov15': 1.471882450056173e-11, 'cov22': 1.750983838377105e-13, 'cov23': 1.718609667112931e-16, 'cov24': 7.40839448828644e-17, 'cov25': 2.608790807136826e-11, 'cov33': 5.648010172238617e-15, 'cov34': -2.101201715091175e-15, 'cov35': 5.781174317976782e-14, 'cov44': 2.055388181414142e-15, 'cov45': 2.671658917995668e-14, 'cov55': 3.927261321302513e-09}, 'elements': {'a': 15.838687408843471, 'e_sin_argperi': -0.010912280067822, 'e_cos_argperi': -0.168244420452056, 'tan_i/2_sin_node': -0.178159293436985, 'tan_i/2_cos_node': 0.104674170172681, 'mean_long': 280.1525906518347}, 'element_order': ['a', 'e_sin_argperi', 'e_cos_argperi', 'tan_i/2_sin_node', 'tan_i/2_cos_node', 'mean_long']}\n",
      "\n",
      "\n",
      "KEP :\n",
      "\t{'eigval': [2.70708e-08, 4.7447e-08, 1.47483e-07, 1.96115e-07, 8.95489e-07, 9.26091e-06], 'numparams': 6, 'rms': [8.83397e-06, 4.32288e-07, 8.90221e-06, 9.36968e-06, 8.58924e-05, 0.000141574], 'covariance': {'cov00': 7.80389516238214e-11, 'cov01': 3.766998348554333e-12, 'cov02': 5.822372817300697e-13, 'cov03': -1.169666885437485e-12, 'cov04': 6.652867693475386e-10, 'cov05': -1.213896545651421e-09, 'cov11': 1.868730031930547e-13, 'cov12': 1.381960510572463e-14, 'cov13': -4.282454784038906e-14, 'cov14': 2.965481153707152e-11, 'cov15': -5.659785116874675e-11, 'cov22': 7.924931173425798e-11, 'cov23': -1.664783653689653e-11, 'cov24': 2.52079207595827e-11, 'cov25': -1.255068138134111e-11, 'cov33': 8.779096770741941e-11, 'cov34': -9.242877040081382e-11, 'cov35': 1.914538825108876e-11, 'cov44': 7.377510560248127e-09, 'cov45': -1.171728298736664e-08, 'cov55': 2.00430925323797e-08}, 'elements': {'a': 15.838687408843471, 'e': 0.168597932577855, 'i': 23.3498339994083, 'node': 300.4355710579049, 'argperi': 243.2754171935957, 'mean_anomaly': 96.4416024003341}, 'element_order': ['a', 'e', 'i', 'node', 'argperi', 'mean_anomaly']}\n",
      "\n",
      "\n",
      "refsys :\n",
      "\tECLM J2000\n",
      "\n",
      "\n",
      "system_data :\n",
      "\t{'eph': 'JPLDE431', 'refsys': 'ECLM J2000'}\n",
      "\n",
      "\n",
      "designation_data :\n",
      "\t{'permid': '10199', 'packed_primary_provisional_designation': 'J97C26U', 'unpacked_primary_provisional_designation': '1997 CU26', 'orbfit_name': 10199, 'iau_name': ''}\n",
      "\n",
      "\n",
      "nongrav_data :\n",
      "\t{'non_gravs': False, 'booleans': {'yarkovski': False, 'srp': False, 'marsden': False, 'yc': False, 'yabushita': False, 'A1': False, 'A2': False, 'A3': False, 'DT': False}, 'coefficients': {'yarkovski': None, 'srp': None, 'A1': None, 'A2': None, 'A3': None, 'DT': None}}\n",
      "\n",
      "\n",
      "magnitude_data :\n",
      "\t{'h': 6.541, 'g': 0.15}\n",
      "\n",
      "\n",
      "epoch_data :\n",
      "\t{'timesystem': 'TDT', 'epoch': 59200.0}\n",
      "\n",
      "----------------------\n",
      "\n",
      " Detailed breakout of variables in COM dictionary ... \n",
      "\n",
      "eigval :\n",
      "\t[4.05219e-08, 1.48624e-07, 1.78359e-07, 2.49551e-07, 8.27355e-07, 0.00423213]\n",
      "\n",
      "\n",
      "numparams :\n",
      "\t6\n",
      "\n",
      "\n",
      "rms :\n",
      "\t[1.26983e-06, 4.32288e-07, 8.90221e-06, 9.36968e-06, 8.58924e-05, 0.00423213]\n",
      "\n",
      "\n",
      "covariance :\n",
      "\t{'cov00': 1.612469894680934e-12, 'cov01': 1.720671322372789e-13, 'cov02': 2.651888743774002e-13, 'cov03': -2.941788400789614e-13, 'cov04': 8.342750536030273e-11, 'cov05': 4.166481622430971e-09, 'cov11': 1.868730031930547e-13, 'cov12': 1.381960510572463e-14, 'cov13': -4.282454784038906e-14, 'cov14': 2.965481153707152e-11, 'cov15': 1.419291991237661e-09, 'cov22': 7.924931173425798e-11, 'cov23': -1.664783653689653e-11, 'cov24': 2.52079207595827e-11, 'cov25': 4.62575622387322e-10, 'cov33': 8.779096770741941e-11, 'cov34': -9.242877040081382e-11, 'cov35': -5.412037128358808e-10, 'cov44': 7.377510560248127e-09, 'cov45': 3.607637175789006e-07, 'cov55': 1.791091479956181e-05}\n",
      "\n",
      "\n",
      "elements :\n",
      "\t{'q': 13.1683174569656, 'e': 0.168597932577855, 'i': 23.3498339994083, 'node': 300.4355710579049, 'argperi': 243.2754171935957, 'peri_time': 53032.0744160882}\n",
      "\n",
      "\n",
      "element_order :\n",
      "\t['q', 'e', 'i', 'node', 'argperi', 'peri_time']\n",
      "\n",
      "\n",
      "covariance_array :\n",
      "\t[[ 1.61246989e-12  1.72067132e-13  2.65188874e-13 -2.94178840e-13\n",
      "   8.34275054e-11  4.16648162e-09]\n",
      " [ 1.72067132e-13  1.86873003e-13  1.38196051e-14 -4.28245478e-14\n",
      "   2.96548115e-11  1.41929199e-09]\n",
      " [ 2.65188874e-13  1.38196051e-14  7.92493117e-11 -1.66478365e-11\n",
      "   2.52079208e-11  4.62575622e-10]\n",
      " [-2.94178840e-13 -4.28245478e-14 -1.66478365e-11  8.77909677e-11\n",
      "  -9.24287704e-11 -5.41203713e-10]\n",
      " [ 8.34275054e-11  2.96548115e-11  2.52079208e-11 -9.24287704e-11\n",
      "   7.37751056e-09  3.60763718e-07]\n",
      " [ 4.16648162e-09  1.41929199e-09  4.62575622e-10 -5.41203713e-10\n",
      "   3.60763718e-07  1.79109148e-05]]\n",
      "\n",
      "\n",
      "element_array :\n",
      "\t[1.31683175e+01 1.68597933e-01 2.33498340e+01 3.00435571e+02\n",
      " 2.43275417e+02 5.30320744e+04]\n",
      "\n",
      "\n",
      "uncertainty :\n",
      "\t[1.26983066e-06 4.32288102e-07 8.90220825e-06 9.36968344e-06\n",
      " 8.58924360e-05 4.23212887e-03]\n",
      "\n"
     ]
    }
   ],
   "source": [
    "### Instantiate an MPCORB object & use it to parse the above json file\n",
    "### NB The parsing is done by default \"behind-the-scenes\" upon instantiation\n",
    "M = MPCORB(filepath)\n",
    "\n",
    "# Demonstrate the available variables\n",
    "print('-'*22)\n",
    "print('\\n Top level variables in MPCORB dictionary ... ')\n",
    "for k,v in M.__dict__.items():\n",
    "    print(f'\\n{k} :\\n\\t{v}\\n')\n",
    "\n",
    "# Demonstrate the key-value pairs available in the \"COM\" coordinate dictionary\n",
    "print('-'*22)\n",
    "print('\\n Detailed breakout of variables in COM dictionary ... ')\n",
    "for k,v in M.COM.items():\n",
    "    print(f'\\n{k} :\\n\\t{v}\\n')\n"
   ]
  },
  {
   "cell_type": "markdown",
   "metadata": {},
   "source": [
    "### Access the orbit elements from the MPCORB object in different ways"
   ]
  },
  {
   "cell_type": "code",
   "execution_count": 4,
   "metadata": {},
   "outputs": [
    {
     "name": "stdout",
     "output_type": "stream",
     "text": [
      "num_params 6 covariance_array.shape (6, 6)\n",
      "num_params 6 covariance_array.shape (6, 6)\n",
      "\n",
      " Dictionary of elements (format = COM = Cometary) ... \n",
      "{'q': 13.1683174569656, 'e': 0.168597932577855, 'i': 23.3498339994083, 'node': 300.4355710579049, 'argperi': 243.2754171935957, 'peri_time': 53032.0744160882}\n",
      "\n",
      " Array of elements (format = COM = Cometary) ... \n",
      "[1.31683175e+01 1.68597933e-01 2.33498340e+01 3.00435571e+02\n",
      " 2.43275417e+02 5.30320744e+04]\n",
      "\n",
      " Name of elements (format = COM = Cometary) ... \n",
      "['q', 'e', 'i', 'node', 'argperi', 'peri_time']\n"
     ]
    }
   ],
   "source": [
    "### Instantiate an MPCORB object & use it to parse the above json file\n",
    "### NB The parsing is done by default \"behind-the-scenes\" upon instantiation\n",
    "M = MPCORB(filepath)\n",
    "\n",
    "# Demonstrate dictionary access \n",
    "print('\\n Dictionary of elements (format = COM = Cometary) ... ')\n",
    "print(M.COM['elements'] )\n",
    "\n",
    "# Demonstrate array access \n",
    "print('\\n Array of elements (format = COM = Cometary) ... ')\n",
    "print(M.COM['element_array'] )\n",
    "\n",
    "# Demonstrate print-out of array ordering  \n",
    "print('\\n Name of elements (format = COM = Cometary) ... ')\n",
    "print(M.COM['element_order'] )\n"
   ]
  },
  {
   "cell_type": "code",
   "execution_count": null,
   "metadata": {},
   "outputs": [],
   "source": []
  },
  {
   "cell_type": "code",
   "execution_count": null,
   "metadata": {},
   "outputs": [],
   "source": []
  }
 ],
 "metadata": {
  "kernelspec": {
   "display_name": "Python 3",
   "language": "python",
   "name": "python3"
  },
  "language_info": {
   "codemirror_mode": {
    "name": "ipython",
    "version": 3
   },
   "file_extension": ".py",
   "mimetype": "text/x-python",
   "name": "python",
   "nbconvert_exporter": "python",
   "pygments_lexer": "ipython3",
   "version": "3.8.3"
  }
 },
 "nbformat": 4,
 "nbformat_minor": 4
}
